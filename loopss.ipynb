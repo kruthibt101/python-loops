{
 "cells": [
  {
   "cell_type": "code",
   "execution_count": null,
   "id": "2b0ce1d4-d8f6-408e-b74c-8462aba5af88",
   "metadata": {},
   "outputs": [],
   "source": [
    "asignment\n",
    "1.Print nmber from 1 to 5 ing a while loop."
   ]
  },
  {
   "cell_type": "code",
   "execution_count": 1,
   "id": "d2c596fe-3414-416b-ae8d-782b8d38eff8",
   "metadata": {},
   "outputs": [
    {
     "name": "stdout",
     "output_type": "stream",
     "text": [
      "1\n",
      "2\n",
      "3\n",
      "4\n",
      "5\n"
     ]
    }
   ],
   "source": [
    "#1.\n",
    "n = 6\n",
    "i = 1\n",
    "while(i < n):\n",
    "    print(i)\n",
    "    i = i + 1"
   ]
  },
  {
   "cell_type": "code",
   "execution_count": null,
   "id": "a9931650-e47c-4d45-b576-4ad4d1b9caea",
   "metadata": {},
   "outputs": [],
   "source": [
    "2.Calculate the sum of number from 1 to 10 using a while loop"
   ]
  },
  {
   "cell_type": "code",
   "execution_count": 5,
   "id": "9717cd55-cf7c-4982-8f14-6588b82c5355",
   "metadata": {},
   "outputs": [
    {
     "name": "stdout",
     "output_type": "stream",
     "text": [
      "1\n",
      "sum of number from 1 to 10 is: 1\n",
      "2\n",
      "sum of number from 1 to 10 is: 3\n",
      "3\n",
      "sum of number from 1 to 10 is: 6\n",
      "4\n",
      "sum of number from 1 to 10 is: 10\n",
      "5\n",
      "sum of number from 1 to 10 is: 15\n",
      "6\n",
      "sum of number from 1 to 10 is: 21\n",
      "7\n",
      "sum of number from 1 to 10 is: 28\n",
      "8\n",
      "sum of number from 1 to 10 is: 36\n",
      "9\n",
      "sum of number from 1 to 10 is: 45\n",
      "10\n",
      "sum of number from 1 to 10 is: 55\n"
     ]
    }
   ],
   "source": [
    "num = 1\n",
    "sum = 0\n",
    "while num <= 10:\n",
    "    print(num)\n",
    "    sum += num\n",
    "    num += 1\n",
    "    print(\"sum of number from 1 to 10 is:\",sum)"
   ]
  },
  {
   "cell_type": "code",
   "execution_count": null,
   "id": "3ee966be-1dbd-467f-8ec9-0b3d715afbcf",
   "metadata": {},
   "outputs": [],
   "source": [
    "3.Calclate the factorial of a number ing a for loop."
   ]
  },
  {
   "cell_type": "code",
   "execution_count": 8,
   "id": "67b2fb62-e73e-47e0-bf2b-558e288e539d",
   "metadata": {},
   "outputs": [
    {
     "name": "stdin",
     "output_type": "stream",
     "text": [
      "Enter any number : 8\n"
     ]
    },
    {
     "name": "stdout",
     "output_type": "stream",
     "text": [
      "Factorial of  8 is :  1\n",
      "Factorial of  8 is :  2\n",
      "Factorial of  8 is :  6\n",
      "Factorial of  8 is :  24\n",
      "Factorial of  8 is :  120\n",
      "Factorial of  8 is :  720\n",
      "Factorial of  8 is :  5040\n",
      "Factorial of  8 is :  40320\n"
     ]
    }
   ],
   "source": [
    "n1 = int(input(\"Enter any number :\"))\n",
    "fact = 1\n",
    "if n1 < 0:\n",
    "    print(\"please enter the positive integer\")\n",
    "elif n1 == 0:\n",
    "        print(\"factorial of 0 is 1\")\n",
    "else:\n",
    "            for i in range (1,n1+1):\n",
    "                fact = fact * i\n",
    "                print(\"Factorial of \" ,n1,\"is : \",fact)"
   ]
  },
  {
   "cell_type": "code",
   "execution_count": null,
   "id": "d474bdb8-efc7-48cf-b697-92a639930cc1",
   "metadata": {},
   "outputs": [],
   "source": [
    "4.Count the nmber of vowel in a string ing a for loop."
   ]
  },
  {
   "cell_type": "code",
   "execution_count": 9,
   "id": "25c9dc83-838f-4c50-adde-d4650c54f864",
   "metadata": {},
   "outputs": [
    {
     "name": "stdin",
     "output_type": "stream",
     "text": [
      "Please Enter Your Own String :  vaccation\n"
     ]
    },
    {
     "name": "stdout",
     "output_type": "stream",
     "text": [
      "Total Number of Vowels in this String =  4\n"
     ]
    }
   ],
   "source": [
    "str1 = input(\"Please Enter Your Own String : \")\n",
    "vowels = 0\n",
    " \n",
    "for i in str1:\n",
    "    if(i == 'a' or i == 'e' or i == 'i' or i == 'o' or i == 'u' or i == 'A'\n",
    "       or i == 'E' or i == 'I' or i == 'O' or i == 'U'):\n",
    "        vowels = vowels + 1\n",
    " \n",
    "print(\"Total Number of Vowels in this String = \", vowels)"
   ]
  },
  {
   "cell_type": "markdown",
   "id": "00ee6154-c6e6-44de-9450-039d99820127",
   "metadata": {},
   "source": [
    "5.Print a pattern using nested loop.\n",
    "In the Python programming language, we know that there are mainly two types of loops: for loop and while loop. When we create a for loop and inside the for loop when we create another for or while loop and vice-versa we call it a nested loop. Nested loops are very important when a programmer is dealing with complex problems."
   ]
  },
  {
   "cell_type": "code",
   "execution_count": 27,
   "id": "bfd07660-6a70-412b-a76e-e1109dd04411",
   "metadata": {},
   "outputs": [],
   "source": [
    "for i in range(1,5):\n",
    "    for j in range(4,i-1):\n",
    "        if(i==j):\n",
    "            print(\"*\",end=\" \")\n",
    "        else:\n",
    "            print(\" \" ,end=\" \")\n",
    "        print()\n",
    "    \n"
   ]
  },
  {
   "cell_type": "markdown",
   "id": "9b9bcb2e-59a7-4c2a-8030-d25a603855b2",
   "metadata": {},
   "source": [
    "6.Generate a multiplication table using nested loop."
   ]
  },
  {
   "cell_type": "code",
   "execution_count": 10,
   "id": "fc261a50-fa70-404e-8198-ed58882635d1",
   "metadata": {},
   "outputs": [
    {
     "name": "stdin",
     "output_type": "stream",
     "text": [
      "Enter the number:  5\n"
     ]
    },
    {
     "name": "stdout",
     "output_type": "stream",
     "text": [
      "Multiplication Table of 5\n",
      "5 X 1 = 5\n",
      "5 X 2 = 10\n",
      "5 X 3 = 15\n",
      "5 X 4 = 20\n",
      "5 X 5 = 25\n",
      "5 X 6 = 30\n",
      "5 X 7 = 35\n",
      "5 X 8 = 40\n",
      "5 X 9 = 45\n",
      "5 X 10 = 50\n"
     ]
    }
   ],
   "source": [
    "#7.\n",
    "num = int(input(\"Enter the number: \"))\n",
    "\n",
    "print(\"Multiplication Table of\", num)\n",
    "for i in range(1, 11):\n",
    "   print(num,\"X\",i,\"=\",num * i)"
   ]
  },
  {
   "cell_type": "code",
   "execution_count": null,
   "id": "a0fd2167-292d-4adc-ae3b-af47dc6fe19f",
   "metadata": {},
   "outputs": [],
   "source": []
  },
  {
   "cell_type": "code",
   "execution_count": null,
   "id": "ee0a524d-6f09-407f-ab3f-58c4dbffafb9",
   "metadata": {},
   "outputs": [],
   "source": []
  },
  {
   "cell_type": "code",
   "execution_count": null,
   "id": "fe2e2dc2-1f56-4809-9b6c-bd7d722701a0",
   "metadata": {},
   "outputs": [],
   "source": []
  },
  {
   "cell_type": "code",
   "execution_count": null,
   "id": "95b10645-223b-497e-84e0-8124d5faf336",
   "metadata": {},
   "outputs": [],
   "source": []
  }
 ],
 "metadata": {
  "kernelspec": {
   "display_name": "Python 3 (ipykernel)",
   "language": "python",
   "name": "python3"
  },
  "language_info": {
   "codemirror_mode": {
    "name": "ipython",
    "version": 3
   },
   "file_extension": ".py",
   "mimetype": "text/x-python",
   "name": "python",
   "nbconvert_exporter": "python",
   "pygments_lexer": "ipython3",
   "version": "3.10.8"
  }
 },
 "nbformat": 4,
 "nbformat_minor": 5
}
